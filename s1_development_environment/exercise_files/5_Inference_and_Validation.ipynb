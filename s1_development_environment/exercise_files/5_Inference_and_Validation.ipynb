{
 "cells": [
  {
   "cell_type": "markdown",
   "metadata": {},
   "source": [
    "# Inference and Validation\n",
    "\n",
    "Now that you have a trained network, you can use it for making predictions. This is typically called **inference**, a term borrowed from statistics. However, neural networks have a tendency to perform *too well* on the training data and aren't able to generalize to data that hasn't been seen before. This is called **overfitting** and it impairs inference performance. To test for overfitting while training, we measure the performance on data not in the training set called the **validation** set. We avoid overfitting through regularization such as dropout while monitoring the validation performance during training. In this notebook, I'll show you how to do this in PyTorch. \n",
    "\n",
    "As usual, let's start by loading the dataset through torchvision. You'll learn more about torchvision and loading data in a later part. This time we'll be taking advantage of the test set which you can get by setting `train=False` here:\n",
    "\n",
    "```python\n",
    "testset = datasets.FashionMNIST('~/.pytorch/F_MNIST_data/', download=True, train=False, transform=transform)\n",
    "```\n",
    "\n",
    "The test set contains images just like the training set. Typically you'll see 10-20% of the original dataset held out for testing and validation with the rest being used for training."
   ]
  },
  {
   "cell_type": "code",
   "execution_count": 2,
   "metadata": {},
   "outputs": [],
   "source": [
    "import torch\n",
    "from torchvision import datasets, transforms\n",
    "\n",
    "# Define a transform to normalize the data\n",
    "transform = transforms.Compose([transforms.ToTensor(),\n",
    "                                transforms.Normalize((0.5,), (0.5,))])\n",
    "# Download and load the training data\n",
    "trainset = datasets.FashionMNIST('~/.pytorch/F_MNIST_data/', download=True, train=True, transform=transform)\n",
    "trainloader = torch.utils.data.DataLoader(trainset, batch_size=64, shuffle=True)\n",
    "\n",
    "# Download and load the test data\n",
    "testset = datasets.FashionMNIST('~/.pytorch/F_MNIST_data/', download=True, train=False, transform=transform)\n",
    "testloader = torch.utils.data.DataLoader(testset, batch_size=64, shuffle=True)"
   ]
  },
  {
   "cell_type": "markdown",
   "metadata": {},
   "source": [
    "Here I'll create a model like normal, using the same one from my solution for part 4."
   ]
  },
  {
   "cell_type": "code",
   "execution_count": 3,
   "metadata": {},
   "outputs": [],
   "source": [
    "from torch import nn, optim\n",
    "import torch.nn.functional as F\n",
    "\n",
    "class Classifier(nn.Module):\n",
    "    def __init__(self):\n",
    "        super().__init__()\n",
    "        self.fc1 = nn.Linear(784, 256)\n",
    "        self.fc2 = nn.Linear(256, 128)\n",
    "        self.fc3 = nn.Linear(128, 64)\n",
    "        self.fc4 = nn.Linear(64, 10)\n",
    "        \n",
    "    def forward(self, x):\n",
    "        # make sure input tensor is flattened\n",
    "        x = x.view(x.shape[0], -1)\n",
    "        \n",
    "        x = F.relu(self.fc1(x))\n",
    "        x = F.relu(self.fc2(x))\n",
    "        x = F.relu(self.fc3(x))\n",
    "        x = F.log_softmax(self.fc4(x), dim=1)\n",
    "        \n",
    "        return x"
   ]
  },
  {
   "cell_type": "markdown",
   "metadata": {},
   "source": [
    "The goal of validation is to measure the model's performance on data that isn't part of the training set. Performance here is up to the developer to define though. Typically this is just accuracy, the percentage of classes the network predicted correctly. Other options are [precision and recall](https://en.wikipedia.org/wiki/Precision_and_recall#Definition_(classification_context)) and top-5 error rate. We'll focus on accuracy here. First I'll do a forward pass with one batch from the test set."
   ]
  },
  {
   "cell_type": "code",
   "execution_count": 4,
   "metadata": {},
   "outputs": [
    {
     "name": "stdout",
     "output_type": "stream",
     "text": [
      "torch.Size([64, 10])\n"
     ]
    }
   ],
   "source": [
    "model = Classifier()\n",
    "\n",
    "images, labels = next(iter(testloader))\n",
    "# Get the class probabilities\n",
    "ps = torch.exp(model(images))\n",
    "# Make sure the shape is appropriate, we should get 10 class probabilities for 64 examples\n",
    "print(ps.shape)"
   ]
  },
  {
   "cell_type": "markdown",
   "metadata": {},
   "source": [
    "With the probabilities, we can get the most likely class using the `ps.topk` method. This returns the $k$ highest values. Since we just want the most likely class, we can use `ps.topk(1)`. This returns a tuple of the top-$k$ values and the top-$k$ indices. If the highest value is the fifth element, we'll get back 4 as the index."
   ]
  },
  {
   "cell_type": "code",
   "execution_count": 5,
   "metadata": {},
   "outputs": [
    {
     "name": "stdout",
     "output_type": "stream",
     "text": [
      "tensor([[6],\n",
      "        [6],\n",
      "        [6],\n",
      "        [6],\n",
      "        [6],\n",
      "        [6],\n",
      "        [6],\n",
      "        [6],\n",
      "        [6],\n",
      "        [6]])\n"
     ]
    }
   ],
   "source": [
    "top_p, top_class = ps.topk(1, dim=1)\n",
    "# Look at the most likely classes for the first 10 examples\n",
    "print(top_class[:10,:])"
   ]
  },
  {
   "cell_type": "markdown",
   "metadata": {},
   "source": [
    "Now we can check if the predicted classes match the labels. This is simple to do by equating `top_class` and `labels`, but we have to be careful of the shapes. Here `top_class` is a 2D tensor with shape `(64, 1)` while `labels` is 1D with shape `(64)`. To get the equality to work out the way we want, `top_class` and `labels` must have the same shape.\n",
    "\n",
    "If we do\n",
    "\n",
    "```python\n",
    "equals = top_class == labels\n",
    "```\n",
    "\n",
    "`equals` will have shape `(64, 64)`, try it yourself. What it's doing is comparing the one element in each row of `top_class` with each element in `labels` which returns 64 True/False boolean values for each row."
   ]
  },
  {
   "cell_type": "code",
   "execution_count": 6,
   "metadata": {},
   "outputs": [],
   "source": [
    "equals = top_class == labels.view(*top_class.shape)"
   ]
  },
  {
   "cell_type": "markdown",
   "metadata": {},
   "source": [
    "Now we need to calculate the percentage of correct predictions. `equals` has binary values, either 0 or 1. This means that if we just sum up all the values and divide by the number of values, we get the percentage of correct predictions. This is the same operation as taking the mean, so we can get the accuracy with a call to `torch.mean`. If only it was that simple. If you try `torch.mean(equals)`, you'll get an error\n",
    "\n",
    "```\n",
    "RuntimeError: mean is not implemented for type torch.ByteTensor\n",
    "```\n",
    "\n",
    "This happens because `equals` has type `torch.ByteTensor` but `torch.mean` isn't implemented for tensors with that type. So we'll need to convert `equals` to a float tensor. Note that when we take `torch.mean` it returns a scalar tensor, to get the actual value as a float we'll need to do `accuracy.item()`."
   ]
  },
  {
   "cell_type": "code",
   "execution_count": 7,
   "metadata": {},
   "outputs": [
    {
     "name": "stdout",
     "output_type": "stream",
     "text": [
      "Accuracy: 12.5%\n"
     ]
    }
   ],
   "source": [
    "accuracy = torch.mean(equals.type(torch.FloatTensor))\n",
    "print(f'Accuracy: {accuracy.item()*100}%')"
   ]
  },
  {
   "cell_type": "markdown",
   "metadata": {},
   "source": [
    "The network is untrained so it's making random guesses and we should see an accuracy around 10%. Now let's train our network and include our validation pass so we can measure how well the network is performing on the test set. Since we're not updating our parameters in the validation pass, we can speed up our code by turning off gradients using `torch.no_grad()`:\n",
    "\n",
    "```python\n",
    "# turn off gradients\n",
    "with torch.no_grad():\n",
    "    # validation pass here\n",
    "    for images, labels in testloader:\n",
    "        ...\n",
    "```\n",
    "\n",
    ">**Exercise:** Implement the validation loop below and print out the total accuracy after the loop. You can largely copy and paste the code from above, but I suggest typing it in because writing it out yourself is essential for building the skill. In general you'll always learn more by typing it rather than copy-pasting. You should be able to get an accuracy above 80%."
   ]
  },
  {
   "cell_type": "code",
   "execution_count": 18,
   "metadata": {},
   "outputs": [
    {
     "data": {
      "text/plain": [
       "0.8176751592356688"
      ]
     },
     "execution_count": 18,
     "metadata": {},
     "output_type": "execute_result"
    }
   ],
   "source": [
    "sum(test_losses)/len(test_losses)"
   ]
  },
  {
   "cell_type": "code",
   "execution_count": 29,
   "metadata": {},
   "outputs": [
    {
     "name": "stdout",
     "output_type": "stream",
     "text": [
      "Epoch: 0\n",
      "Train Loss: 0.5141180909391659\n",
      "Test Loss: 0.4477273020774696\n",
      "Mean Test Accuracy: 84.13614649681529%\n",
      "\n",
      "Epoch: 1\n",
      "Train Loss: 0.3898186718763065\n",
      "Test Loss: 0.40210773363994184\n",
      "Mean Test Accuracy: 85.24084394904459%\n",
      "\n",
      "Epoch: 2\n",
      "Train Loss: 0.35514083885943204\n",
      "Test Loss: 0.38438555218611553\n",
      "Mean Test Accuracy: 86.52468152866241%\n",
      "\n",
      "Epoch: 3\n",
      "Train Loss: 0.3316365500757181\n",
      "Test Loss: 0.3900652297647895\n",
      "Mean Test Accuracy: 86.25597133757962%\n",
      "\n",
      "Epoch: 4\n",
      "Train Loss: 0.3147864250311338\n",
      "Test Loss: 0.3893987844893887\n",
      "Mean Test Accuracy: 86.38535031847134%\n",
      "\n",
      "Epoch: 5\n",
      "Train Loss: 0.30065407950296075\n",
      "Test Loss: 0.3662466173339042\n",
      "Mean Test Accuracy: 87.25119426751591%\n",
      "\n",
      "Epoch: 6\n",
      "Train Loss: 0.2931382662769574\n",
      "Test Loss: 0.3969945587739823\n",
      "Mean Test Accuracy: 86.43511146496814%\n",
      "\n",
      "Epoch: 7\n",
      "Train Loss: 0.28245644609747667\n",
      "Test Loss: 0.3720469162532478\n",
      "Mean Test Accuracy: 87.26114649681529%\n",
      "\n",
      "Epoch: 8\n",
      "Train Loss: 0.26975317839096224\n",
      "Test Loss: 0.3735477241930688\n",
      "Mean Test Accuracy: 87.37062101910828%\n",
      "\n",
      "Epoch: 9\n",
      "Train Loss: 0.2658537637108742\n",
      "Test Loss: 0.3675628374716279\n",
      "Mean Test Accuracy: 87.31090764331209%\n",
      "\n",
      "Epoch: 10\n",
      "Train Loss: 0.2622345130541114\n",
      "Test Loss: 0.37631558128602943\n",
      "Mean Test Accuracy: 87.37062101910828%\n",
      "\n",
      "Epoch: 11\n",
      "Train Loss: 0.25145330336064037\n",
      "Test Loss: 0.3725139185976071\n",
      "Mean Test Accuracy: 87.7687101910828%\n",
      "\n",
      "Epoch: 12\n",
      "Train Loss: 0.24845917469688825\n",
      "Test Loss: 0.36929120987084263\n",
      "Mean Test Accuracy: 87.68909235668791%\n",
      "\n",
      "Epoch: 13\n",
      "Train Loss: 0.2392627530729275\n",
      "Test Loss: 0.3869509228095887\n",
      "Mean Test Accuracy: 87.73885350318471%\n",
      "\n",
      "Epoch: 14\n",
      "Train Loss: 0.23815983478257904\n",
      "Test Loss: 0.39120190528927334\n",
      "Mean Test Accuracy: 87.62937898089172%\n",
      "\n",
      "Epoch: 15\n",
      "Train Loss: 0.23569197057962799\n",
      "Test Loss: 0.37647923480743056\n",
      "Mean Test Accuracy: 87.99761146496814%\n",
      "\n",
      "Epoch: 16\n",
      "Train Loss: 0.23326919090026604\n",
      "Test Loss: 0.36818999668974783\n",
      "Mean Test Accuracy: 88.6046974522293%\n",
      "\n",
      "Epoch: 17\n",
      "Train Loss: 0.2241762407711828\n",
      "Test Loss: 0.3715583655959482\n",
      "Mean Test Accuracy: 88.23646496815286%\n",
      "\n",
      "Epoch: 18\n",
      "Train Loss: 0.22166554273954078\n",
      "Test Loss: 0.38127653851250937\n",
      "Mean Test Accuracy: 87.85828025477707%\n",
      "\n",
      "Epoch: 19\n",
      "Train Loss: 0.22250607633180836\n",
      "Test Loss: 0.3995513193261851\n",
      "Mean Test Accuracy: 87.99761146496814%\n",
      "\n",
      "Epoch: 20\n",
      "Train Loss: 0.20966650731067285\n",
      "Test Loss: 0.3896684410987766\n",
      "Mean Test Accuracy: 88.45541401273886%\n",
      "\n",
      "Epoch: 21\n",
      "Train Loss: 0.21078404149552907\n",
      "Test Loss: 0.3920583909104584\n",
      "Mean Test Accuracy: 88.09713375796179%\n",
      "\n",
      "Epoch: 22\n",
      "Train Loss: 0.21204099714406519\n",
      "Test Loss: 0.42772946278950214\n",
      "Mean Test Accuracy: 87.93789808917197%\n",
      "\n",
      "Epoch: 23\n",
      "Train Loss: 0.21270231451831265\n",
      "Test Loss: 0.41692993519412486\n",
      "Mean Test Accuracy: 88.46536624203821%\n",
      "\n",
      "Epoch: 24\n",
      "Train Loss: 0.19854425967756364\n",
      "Test Loss: 0.39871924332562525\n",
      "Mean Test Accuracy: 88.20660828025477%\n",
      "\n",
      "Epoch: 25\n",
      "Train Loss: 0.20105208827853838\n",
      "Test Loss: 0.3974824273946938\n",
      "Mean Test Accuracy: 88.64450636942675%\n",
      "\n",
      "Epoch: 26\n",
      "Train Loss: 0.19513851751301334\n",
      "Test Loss: 0.3928129459215198\n",
      "Mean Test Accuracy: 88.4952229299363%\n",
      "\n",
      "Epoch: 27\n",
      "Train Loss: 0.19130490074104972\n",
      "Test Loss: 0.39335599546409716\n",
      "Mean Test Accuracy: 88.5250796178344%\n",
      "\n",
      "Epoch: 28\n",
      "Train Loss: 0.1918132869618089\n",
      "Test Loss: 0.4155292247605931\n",
      "Mean Test Accuracy: 88.16679936305732%\n",
      "\n",
      "Epoch: 29\n",
      "Train Loss: 0.19180945259755228\n",
      "Test Loss: 0.40293731697046076\n",
      "Mean Test Accuracy: 88.28622611464968%\n",
      "\n"
     ]
    }
   ],
   "source": [
    "model = Classifier()\n",
    "criterion = nn.NLLLoss()\n",
    "optimizer = optim.Adam(model.parameters(), lr=0.003)\n",
    "\n",
    "epochs = 30\n",
    "steps = 0\n",
    "\n",
    "train_losses, test_losses = [], []\n",
    "for e in range(epochs):\n",
    "    running_train_loss = 0\n",
    "    for images, labels in trainloader:\n",
    "        \n",
    "        optimizer.zero_grad()\n",
    "        \n",
    "        log_ps = model.forward(images)\n",
    "        loss = criterion(log_ps, labels)\n",
    "        loss.backward()\n",
    "        optimizer.step()\n",
    "        \n",
    "        running_train_loss += loss.item()\n",
    "        \n",
    "    else:\n",
    "        print(f'Epoch: {e}')\n",
    "        mean_train_loss = running_train_loss/len(trainloader)\n",
    "        print(f'Train Loss: {mean_train_loss}')\n",
    "        train_losses.append(mean_train_loss)\n",
    "        \n",
    "    ## TODO: Implement the validation pass and print out the validation accuracy\n",
    "    running_test_loss = 0\n",
    "    test_accuracies = 0\n",
    "    for images, labels in testloader:\n",
    "        # Get the class probabilities\n",
    "        log_ps = model(images)\n",
    "        ps = torch.exp(log_ps)\n",
    "        # Calc loss\n",
    "        test_loss = criterion(log_ps, labels)\n",
    "        # Get the most likely class\n",
    "        top_p, top_class = ps.topk(1, dim=1)\n",
    "        equals = top_class == labels.view(*top_class.shape)\n",
    "        accuracy = torch.mean(equals.type(torch.FloatTensor))\n",
    "        \n",
    "        running_test_loss += test_loss.item()\n",
    "        test_accuracies += accuracy.item()\n",
    "    else:\n",
    "        mean_test_loss = running_test_loss/len(testloader)\n",
    "        test_losses.append(mean_test_loss)\n",
    "        print(f'Test Loss: {mean_test_loss}')\n",
    "        print(f'Mean Test Accuracy: {test_accuracies/len(testloader)*100}%\\n')"
   ]
  },
  {
   "cell_type": "code",
   "execution_count": 30,
   "metadata": {},
   "outputs": [
    {
     "data": {
      "text/plain": [
       "30"
      ]
     },
     "execution_count": 30,
     "metadata": {},
     "output_type": "execute_result"
    }
   ],
   "source": [
    "len(train_losses)"
   ]
  },
  {
   "cell_type": "code",
   "execution_count": 31,
   "metadata": {},
   "outputs": [
    {
     "data": {
      "text/plain": [
       "<matplotlib.legend.Legend at 0x2a1ed0bc5b0>"
      ]
     },
     "execution_count": 31,
     "metadata": {},
     "output_type": "execute_result"
    },
    {
     "data": {
      "image/png": "[encoded data removed]",
      "text/plain": [
       "<Figure size 640x480 with 1 Axes>"
      ]
     },
     "metadata": {},
     "output_type": "display_data"
    }
   ],
   "source": [
    "import matplotlib.pyplot as plt\n",
    "plt.plot(range(epochs), train_losses, label='Training loss')\n",
    "plt.plot(range(epochs), test_losses, label='Validation loss')\n",
    "plt.legend()"
   ]
  },
  {
   "cell_type": "markdown",
   "metadata": {},
   "source": [
    "## Overfitting\n",
    "\n",
    "If we look at the training and validation losses as we train the network, we can see a phenomenon known as overfitting.\n",
    "\n",
    "<img src='assets/overfitting.png' width=450px>\n",
    "\n",
    "The network learns the training set better and better, resulting in lower training losses. However, it starts having problems generalizing to data outside the training set leading to the validation loss increasing. The ultimate goal of any deep learning model is to make predictions on new data, so we should strive to get the lowest validation loss possible. One option is to use the version of the model with the lowest validation loss, here the one around 8-10 training epochs. This strategy is called *early-stopping*. In practice, you'd save the model frequently as you're training then later choose the model with the lowest validation loss.\n",
    "\n",
    "The most common method to reduce overfitting (outside of early-stopping) is *dropout*, where we randomly drop input units. This forces the network to share information between weights, increasing it's ability to generalize to new data. Adding dropout in PyTorch is straightforward using the [`nn.Dropout`](https://pytorch.org/docs/stable/nn.html#torch.nn.Dropout) module.\n",
    "\n",
    "```python\n",
    "class Classifier(nn.Module):\n",
    "    def __init__(self):\n",
    "        super().__init__()\n",
    "        self.fc1 = nn.Linear(784, 256)\n",
    "        self.fc2 = nn.Linear(256, 128)\n",
    "        self.fc3 = nn.Linear(128, 64)\n",
    "        self.fc4 = nn.Linear(64, 10)\n",
    "        \n",
    "        # Dropout module with 0.2 drop probability\n",
    "        self.dropout = nn.Dropout(p=0.2)\n",
    "        \n",
    "    def forward(self, x):\n",
    "        # make sure input tensor is flattened\n",
    "        x = x.view(x.shape[0], -1)\n",
    "        \n",
    "        # Now with dropout\n",
    "        x = self.dropout(F.relu(self.fc1(x)))\n",
    "        x = self.dropout(F.relu(self.fc2(x)))\n",
    "        x = self.dropout(F.relu(self.fc3(x)))\n",
    "        \n",
    "        # output so no dropout here\n",
    "        x = F.log_softmax(self.fc4(x), dim=1)\n",
    "        \n",
    "        return x\n",
    "```\n",
    "\n",
    "During training we want to use dropout to prevent overfitting, but during inference we want to use the entire network. So, we need to turn off dropout during validation, testing, and whenever we're using the network to make predictions. To do this, you use `model.eval()`. This sets the model to evaluation mode where the dropout probability is 0. You can turn dropout back on by setting the model to train mode with `model.train()`. In general, the pattern for the validation loop will look like this, where you turn off gradients, set the model to evaluation mode, calculate the validation loss and metric, then set the model back to train mode.\n",
    "\n",
    "```python\n",
    "# turn off gradients\n",
    "with torch.no_grad():\n",
    "    \n",
    "    # set model to evaluation mode\n",
    "    model.eval()\n",
    "    \n",
    "    # validation pass here\n",
    "    for images, labels in testloader:\n",
    "        ...\n",
    "\n",
    "# set model back to train mode\n",
    "model.train()\n",
    "```"
   ]
  },
  {
   "cell_type": "markdown",
   "metadata": {},
   "source": [
    "> **Exercise:** Add dropout to your model and train it on Fashion-MNIST again. See if you can get a lower validation loss or higher accuracy."
   ]
  },
  {
   "cell_type": "code",
   "execution_count": 34,
   "metadata": {},
   "outputs": [],
   "source": [
    "## TODO: Define your model with dropout added\n",
    "class Classifier(nn.Module):\n",
    "    def __init__(self):\n",
    "        super().__init__()\n",
    "        self.fc1 = nn.Linear(784, 256)\n",
    "        self.fc2 = nn.Linear(256, 128)\n",
    "        self.fc3 = nn.Linear(128, 64)\n",
    "        self.fc4 = nn.Linear(64, 10)\n",
    "        \n",
    "        # Dropout module with 0.2 drop probability\n",
    "        self.dropout = nn.Dropout(p=0.2)   \n",
    "        \n",
    "    def forward(self, x):\n",
    "        # make sure input tensor is flattened\n",
    "        x = x.view(x.shape[0], -1)\n",
    "        \n",
    "        x = self.dropout(F.relu(self.fc1(x)))\n",
    "        x = self.dropout(F.relu(self.fc2(x)))\n",
    "        x = self.dropout(F.relu(self.fc3(x)))\n",
    "        x = F.log_softmax(self.fc4(x), dim=1)\n",
    "        \n",
    "        return x"
   ]
  },
  {
   "cell_type": "code",
   "execution_count": 35,
   "metadata": {},
   "outputs": [
    {
     "name": "stdout",
     "output_type": "stream",
     "text": [
      "Epoch: 0\n",
      "Train Loss: 0.6047248129429085\n",
      "Test Loss: 0.46156162184894467\n",
      "Mean Test Accuracy: 83.31011146496814%\n",
      "\n",
      "Epoch: 1\n",
      "Train Loss: 0.4781406640942925\n",
      "Test Loss: 0.43651987640721024\n",
      "Mean Test Accuracy: 83.97691082802548%\n",
      "\n",
      "Epoch: 2\n",
      "Train Loss: 0.4481894789315236\n",
      "Test Loss: 0.4322660146815002\n",
      "Mean Test Accuracy: 84.60390127388536%\n",
      "\n",
      "Epoch: 3\n",
      "Train Loss: 0.4301559825632364\n",
      "Test Loss: 0.4289623436274802\n",
      "Mean Test Accuracy: 84.60390127388536%\n",
      "\n",
      "Epoch: 4\n",
      "Train Loss: 0.4148988112775502\n",
      "Test Loss: 0.3967458611461008\n",
      "Mean Test Accuracy: 85.828025477707%\n",
      "\n",
      "Epoch: 5\n",
      "Train Loss: 0.405148717735622\n",
      "Test Loss: 0.406543099956148\n",
      "Mean Test Accuracy: 85.828025477707%\n",
      "\n",
      "Epoch: 6\n",
      "Train Loss: 0.4005884072467335\n",
      "Test Loss: 0.3883501703192474\n",
      "Mean Test Accuracy: 85.65883757961782%\n",
      "\n",
      "Epoch: 7\n",
      "Train Loss: 0.3990666623086309\n",
      "Test Loss: 0.3897429368678172\n",
      "Mean Test Accuracy: 86.30573248407643%\n",
      "\n",
      "Epoch: 8\n",
      "Train Loss: 0.3929438726750137\n",
      "Test Loss: 0.40224023875157544\n",
      "Mean Test Accuracy: 85.9375%\n",
      "\n",
      "Epoch: 9\n",
      "Train Loss: 0.39614187864098216\n",
      "Test Loss: 0.3988132671375943\n",
      "Mean Test Accuracy: 86.12659235668791%\n",
      "\n",
      "Epoch: 10\n",
      "Train Loss: 0.3786111300163813\n",
      "Test Loss: 0.3926787908859314\n",
      "Mean Test Accuracy: 86.26592356687898%\n",
      "\n",
      "Epoch: 11\n",
      "Train Loss: 0.3800167614447155\n",
      "Test Loss: 0.3859046160415479\n",
      "Mean Test Accuracy: 87.02229299363057%\n",
      "\n",
      "Epoch: 12\n",
      "Train Loss: 0.3755792130285235\n",
      "Test Loss: 0.3888861874865878\n",
      "Mean Test Accuracy: 86.42515923566879%\n",
      "\n",
      "Epoch: 13\n",
      "Train Loss: 0.37412111372200413\n",
      "Test Loss: 0.3780609778348048\n",
      "Mean Test Accuracy: 86.6640127388535%\n",
      "\n",
      "Epoch: 14\n",
      "Train Loss: 0.3732152160550994\n",
      "Test Loss: 0.39167018424553474\n",
      "Mean Test Accuracy: 86.69386942675159%\n",
      "\n",
      "Epoch: 15\n",
      "Train Loss: 0.3619064069204112\n",
      "Test Loss: 0.3881347283815882\n",
      "Mean Test Accuracy: 86.8829617834395%\n",
      "\n",
      "Epoch: 16\n",
      "Train Loss: 0.3660554207845537\n",
      "Test Loss: 0.43845030997589135\n",
      "Mean Test Accuracy: 84.61385350318471%\n",
      "\n",
      "Epoch: 17\n",
      "Train Loss: 0.3698483571362521\n",
      "Test Loss: 0.3748549063494251\n",
      "Mean Test Accuracy: 87.21138535031847%\n",
      "\n",
      "Epoch: 18\n",
      "Train Loss: 0.3673487420656534\n",
      "Test Loss: 0.4001325780324116\n",
      "Mean Test Accuracy: 85.78821656050955%\n",
      "\n",
      "Epoch: 19\n",
      "Train Loss: 0.3525537066241063\n",
      "Test Loss: 0.3896376277990402\n",
      "Mean Test Accuracy: 86.79339171974523%\n",
      "\n"
     ]
    }
   ],
   "source": [
    "## TODO: Train your model with dropout, and monitor the training progress with the validation loss and accuracy\n",
    "model = Classifier()\n",
    "criterion = nn.NLLLoss()\n",
    "optimizer = optim.Adam(model.parameters(), lr=0.003)\n",
    "\n",
    "epochs = 20\n",
    "steps = 0\n",
    "\n",
    "train_losses, test_losses = [], []\n",
    "for e in range(epochs):\n",
    "    running_train_loss = 0\n",
    "    # set model to train mode\n",
    "    model.train()\n",
    "    for images, labels in trainloader:\n",
    "        \n",
    "        optimizer.zero_grad()\n",
    "        \n",
    "        log_ps = model.forward(images)\n",
    "        loss = criterion(log_ps, labels)\n",
    "        loss.backward()\n",
    "        optimizer.step()\n",
    "        \n",
    "        running_train_loss += loss.item()\n",
    "        \n",
    "    else:\n",
    "        print(f'Epoch: {e}')\n",
    "        mean_train_loss = running_train_loss/len(trainloader)\n",
    "        print(f'Train Loss: {mean_train_loss}')\n",
    "        train_losses.append(mean_train_loss)\n",
    "        \n",
    "    ## TODO: Implement the validation pass and print out the validation accuracy\n",
    "    running_test_loss = 0\n",
    "    test_accuracies = 0\n",
    "    with torch.no_grad():\n",
    "        # set model to evaluation mode\n",
    "        model.eval()\n",
    "        for images, labels in testloader:\n",
    "            # Get the class probabilities\n",
    "            log_ps = model.forward(images)\n",
    "            ps = torch.exp(log_ps)\n",
    "            # Calc loss\n",
    "            test_loss = criterion(log_ps, labels)\n",
    "            # Get the most likely class\n",
    "            top_p, top_class = ps.topk(1, dim=1)\n",
    "            equals = top_class == labels.view(*top_class.shape)\n",
    "            accuracy = torch.mean(equals.type(torch.FloatTensor))\n",
    "\n",
    "            running_test_loss += test_loss.item()\n",
    "            test_accuracies += accuracy.item()\n",
    "        else:\n",
    "            mean_test_loss = running_test_loss/len(testloader)\n",
    "            test_losses.append(mean_test_loss)\n",
    "            print(f'Test Loss: {mean_test_loss}')\n",
    "            print(f'Mean Test Accuracy: {test_accuracies/len(testloader)*100}%\\n')"
   ]
  },
  {
   "cell_type": "code",
   "execution_count": 36,
   "metadata": {},
   "outputs": [
    {
     "data": {
      "text/plain": [
       "<matplotlib.legend.Legend at 0x2a1eed05be0>"
      ]
     },
     "execution_count": 36,
     "metadata": {},
     "output_type": "execute_result"
    },
    {
     "data": {
      "image/png": "[encoded data removed]",
      "text/plain": [
       "<Figure size 640x480 with 1 Axes>"
      ]
     },
     "metadata": {},
     "output_type": "display_data"
    }
   ],
   "source": [
    "plt.plot(range(epochs), train_losses, label='Training loss')\n",
    "plt.plot(range(epochs), test_losses, label='Validation loss')\n",
    "plt.legend()"
   ]
  },
  {
   "cell_type": "markdown",
   "metadata": {},
   "source": [
    "## Inference\n",
    "\n",
    "Now that the model is trained, we can use it for inference. We've done this before, but now we need to remember to set the model in inference mode with `model.eval()`. You'll also want to turn off autograd with the `torch.no_grad()` context."
   ]
  },
  {
   "cell_type": "code",
   "execution_count": 60,
   "metadata": {},
   "outputs": [
    {
     "data": {
      "image/png": "[encoded data removed]",
      "text/plain": [
       "<Figure size 600x900 with 2 Axes>"
      ]
     },
     "metadata": {},
     "output_type": "display_data"
    }
   ],
   "source": [
    "# Import helper module (should be in the repo)\n",
    "import helper\n",
    "\n",
    "# Test out your network!\n",
    "\n",
    "model.eval()\n",
    "\n",
    "dataiter = iter(testloader)\n",
    "images, labels = next(dataiter)\n",
    "img = images[0]\n",
    "# Convert 2D image to 1D vector\n",
    "img = img.view(1, 784)\n",
    "\n",
    "# Calculate the class probabilities (softmax) for img\n",
    "with torch.no_grad():\n",
    "    output = model.forward(img)\n",
    "\n",
    "ps = torch.exp(output)\n",
    "\n",
    "# Plot the image and probabilities\n",
    "helper.view_classify(img.view(1, 28, 28), ps, version='Fashion')"
   ]
  },
  {
   "cell_type": "markdown",
   "metadata": {},
   "source": [
    "## Next Up!\n",
    "\n",
    "In the next part, I'll show you how to save your trained models. In general, you won't want to train a model everytime you need it. Instead, you'll train once, save it, then load the model when you want to train more or use if for inference."
   ]
  },
  {
   "cell_type": "code",
   "execution_count": null,
   "metadata": {},
   "outputs": [],
   "source": []
  }
 ],
 "metadata": {
  "kernelspec": {
   "display_name": "Python 3 (ipykernel)",
   "language": "python",
   "name": "python3"
  },
  "language_info": {
   "codemirror_mode": {
    "name": "ipython",
    "version": 3
   },
   "file_extension": ".py",
   "mimetype": "text/x-python",
   "name": "python",
   "nbconvert_exporter": "python",
   "pygments_lexer": "ipython3",
   "version": "3.8.15"
  }
 },
 "nbformat": 4,
 "nbformat_minor": 2
}
